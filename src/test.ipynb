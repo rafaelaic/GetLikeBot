{
 "cells": [
  {
   "cell_type": "code",
   "execution_count": null,
   "metadata": {},
   "outputs": [],
   "source": [
    "import undetected_chromedriver as uc\n",
    "from selenium.webdriver.common.by import By\n",
    "from selenium.webdriver.common.keys import Keys\n",
    "from selenium.webdriver.support import expected_conditions as EC\n",
    "from selenium.webdriver.support.ui import WebDriverWait\n",
    "from easy_webdriver import *\n",
    "\n",
    "from vk import *\n",
    "from gen_log import GenLog\n",
    "from settings import Settings\n",
    "from getlike import *\n",
    "from bot import *"
   ]
  },
  {
   "cell_type": "code",
   "execution_count": null,
   "metadata": {},
   "outputs": [],
   "source": [
    "settings = Settings('../config/config.json')\n",
    "log = GenLog('../log/tasks.log', '../log/profiles.log')"
   ]
  },
  {
   "cell_type": "code",
   "execution_count": null,
   "metadata": {},
   "outputs": [],
   "source": [
    "def inicia_chromedriver(headless = False, user_data_dir = None) -> uc.Chrome: \n",
    "    options = uc.ChromeOptions()\n",
    "    if headless: options.add_argument('--headless')\n",
    "    driver = uc.Chrome(user_data_dir=user_data_dir, options=options)\n",
    "    return driver\n",
    "    \n",
    "\n",
    "driver = inicia_chromedriver(user_data_dir='../profiles/' + settings.vk_accounts[0]['id'].lower())\n",
    "getlike = GetLike(driver)\n",
    "parent_window = driver.current_window_handle\n",
    "\n",
    "#getlike.insert_cookies()\n",
    "\n",
    "vk = Vk(driver)\n",
    "\n",
    "#vk.credencial_login('blackzarthur@gmail.com', '#Money12')\n",
    "\n"
   ]
  },
  {
   "cell_type": "code",
   "execution_count": null,
   "metadata": {},
   "outputs": [],
   "source": [
    "# getlike.switch_profile(settings.vk_accounts[0]['id'])\n",
    "vk.check_login()"
   ]
  },
  {
   "cell_type": "code",
   "execution_count": 7,
   "metadata": {},
   "outputs": [
    {
     "name": "stdout",
     "output_type": "stream",
     "text": [
      "/home/rafael/Desktop/BotGetLike\n",
      "Starting bot\n",
      "Opening chromedriver\n",
      "\n",
      "Ocorreu um erro ao rapear esse perfil, passando pro próximo\n",
      "\n",
      "\n",
      "+=+=+=+=+=+=+=+=+=+=+=+=+=+=+=+=+=+=\n",
      "Id759752686 | 0.00 RUB\n",
      "Success: 0 | Hided: 0\n",
      "+=+=+=+=+=+=+=+=+=+=+=+=+=+=+=+=+=+=\n",
      "\n"
     ]
    }
   ],
   "source": [
    "bot = RPBot()\n",
    "bot.rape_profile(settings.vk_accounts[0])"
   ]
  },
  {
   "cell_type": "code",
   "execution_count": null,
   "metadata": {},
   "outputs": [],
   "source": [
    "tasks= getlike.found_tasks()\n",
    "getlike.execute_task(tasks[0], vk)"
   ]
  },
  {
   "cell_type": "code",
   "execution_count": null,
   "metadata": {},
   "outputs": [],
   "source": [
    "vk.like_post()"
   ]
  },
  {
   "cell_type": "code",
   "execution_count": null,
   "metadata": {},
   "outputs": [],
   "source": [
    "driver.switch_to.window(parent_window)"
   ]
  },
  {
   "cell_type": "code",
   "execution_count": null,
   "metadata": {},
   "outputs": [],
   "source": [
    "driver.current_url"
   ]
  },
  {
   "cell_type": "code",
   "execution_count": null,
   "metadata": {},
   "outputs": [],
   "source": [
    "driver.switch_to.window(driver.window_handles[1])"
   ]
  }
 ],
 "metadata": {
  "kernelspec": {
   "display_name": "Python 3.10.6 64-bit",
   "language": "python",
   "name": "python3"
  },
  "language_info": {
   "codemirror_mode": {
    "name": "ipython",
    "version": 3
   },
   "file_extension": ".py",
   "mimetype": "text/x-python",
   "name": "python",
   "nbconvert_exporter": "python",
   "pygments_lexer": "ipython3",
   "version": "3.10.6"
  },
  "orig_nbformat": 4,
  "vscode": {
   "interpreter": {
    "hash": "916dbcbb3f70747c44a77c7bcd40155683ae19c65e1c03b4aa3499c5328201f1"
   }
  }
 },
 "nbformat": 4,
 "nbformat_minor": 2
}
