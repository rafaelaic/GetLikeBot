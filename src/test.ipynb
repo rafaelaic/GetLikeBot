{
 "cells": [
  {
   "cell_type": "code",
   "execution_count": 4,
   "metadata": {},
   "outputs": [],
   "source": [
    "import undetected_chromedriver as uc\n",
    "from selenium.webdriver.common.by import By\n",
    "from selenium.webdriver.common.keys import Keys\n",
    "from selenium.webdriver.support import expected_conditions as EC\n",
    "from selenium.webdriver.support.ui import WebDriverWait\n",
    "from easy_webdriver import *\n",
    "\n",
    "from vk import *\n",
    "from gen_log import GenLog\n",
    "from settings import Settings\n",
    "from getlike import *\n",
    "from bot import *"
   ]
  },
  {
   "cell_type": "code",
   "execution_count": 5,
   "metadata": {},
   "outputs": [],
   "source": [
    "settings = Settings('../config/config.json')\n",
    "log = GenLog('../log/tasks.log', '../log/profiles.log')"
   ]
  },
  {
   "cell_type": "code",
   "execution_count": 6,
   "metadata": {},
   "outputs": [],
   "source": [
    "def inicia_chromedriver(headless = False, user_data_dir = None) -> uc.Chrome: \n",
    "    options = uc.ChromeOptions()\n",
    "    if headless: options.add_argument('--headless')\n",
    "    driver = uc.Chrome(user_data_dir=user_data_dir, options=options)\n",
    "    return driver\n",
    "    \n",
    "\n",
    "driver = inicia_chromedriver(user_data_dir='../profiles/' + settings.vk_accounts[1]['id'].lower())\n",
    "getlike = GetLike(driver)\n",
    "parent_window = driver.current_window_handle\n",
    "\n",
    "#getlike.insert_cookies()\n",
    "\n",
    "vk = Vk(driver)\n",
    "\n",
    "#vk.credencial_login('blackzarthur@gmail.com', '#Money12')\n",
    "\n"
   ]
  },
  {
   "cell_type": "code",
   "execution_count": null,
   "metadata": {},
   "outputs": [],
   "source": [
    "bot = RPBot()\n",
    "bot.rape_profile(settings.vk_accounts[1])"
   ]
  },
  {
   "cell_type": "code",
   "execution_count": 8,
   "metadata": {},
   "outputs": [
    {
     "ename": "VkErrorDoingTask",
     "evalue": "",
     "output_type": "error",
     "traceback": [
      "\u001b[0;31m---------------------------------------------------------------------------\u001b[0m",
      "\u001b[0;31mTimeoutException\u001b[0m                          Traceback (most recent call last)",
      "File \u001b[0;32m~/Desktop/BotGetLike/src/vk.py:204\u001b[0m, in \u001b[0;36mVk.like_photo\u001b[0;34m(self)\u001b[0m\n\u001b[1;32m    203\u001b[0m     \u001b[39m#Check if following\u001b[39;00m\n\u001b[0;32m--> 204\u001b[0m     find_element(\u001b[39mself\u001b[39;49m\u001b[39m.\u001b[39;49mdriver, \u001b[39m'\u001b[39;49m\u001b[39mclass\u001b[39;49m\u001b[39m'\u001b[39;49m, \u001b[39m'\u001b[39;49m\u001b[39mlike_btn like _like animate active\u001b[39;49m\u001b[39m'\u001b[39;49m, \u001b[39m'\u001b[39;49m\u001b[39mpresence\u001b[39;49m\u001b[39m'\u001b[39;49m)\n\u001b[1;32m    205\u001b[0m \u001b[39mexcept\u001b[39;00m:\n",
      "File \u001b[0;32m~/Desktop/BotGetLike/src/easy_webdriver.py:51\u001b[0m, in \u001b[0;36mfind_element\u001b[0;34m(driver, element_type, name, mode, wait)\u001b[0m\n\u001b[1;32m     50\u001b[0m \u001b[39melif\u001b[39;00m element_type \u001b[39m==\u001b[39m \u001b[39m'\u001b[39m\u001b[39mclass\u001b[39m\u001b[39m'\u001b[39m:\n\u001b[0;32m---> 51\u001b[0m     \u001b[39mreturn\u001b[39;00m WebDriverWait(driver, wait)\u001b[39m.\u001b[39;49muntil(EC\u001b[39m.\u001b[39;49mpresence_of_element_located((\n\u001b[1;32m     52\u001b[0m         By\u001b[39m.\u001b[39;49mCLASS_NAME, name\n\u001b[1;32m     53\u001b[0m     )))\n\u001b[1;32m     54\u001b[0m \u001b[39melif\u001b[39;00m element_type \u001b[39m==\u001b[39m \u001b[39m'\u001b[39m\u001b[39mcss\u001b[39m\u001b[39m'\u001b[39m:\n",
      "File \u001b[0;32m~/.local/lib/python3.10/site-packages/selenium/webdriver/support/wait.py:95\u001b[0m, in \u001b[0;36mWebDriverWait.until\u001b[0;34m(self, method, message)\u001b[0m\n\u001b[1;32m     94\u001b[0m         \u001b[39mbreak\u001b[39;00m\n\u001b[0;32m---> 95\u001b[0m \u001b[39mraise\u001b[39;00m TimeoutException(message, screen, stacktrace)\n",
      "\u001b[0;31mTimeoutException\u001b[0m: Message: \nStacktrace:\n#0 0x56297439f463 <unknown>\n#1 0x5629741638d8 <unknown>\n#2 0x5629741a143a <unknown>\n#3 0x5629741a1651 <unknown>\n#4 0x5629741dd7a4 <unknown>\n#5 0x5629741c264d <unknown>\n#6 0x5629741db30f <unknown>\n#7 0x5629741c2443 <unknown>\n#8 0x5629741933c5 <unknown>\n#9 0x562974194531 <unknown>\n#10 0x5629743f1dce <unknown>\n#11 0x5629743f5192 <unknown>\n#12 0x5629743d693e <unknown>\n#13 0x5629743f6103 <unknown>\n#14 0x5629743c9d85 <unknown>\n#15 0x5629744170a8 <unknown>\n#16 0x562974417239 <unknown>\n#17 0x562974432492 <unknown>\n#18 0x7f560d494b43 <unknown>\n",
      "\nDuring handling of the above exception, another exception occurred:\n",
      "\u001b[0;31mVkErrorDoingTask\u001b[0m                          Traceback (most recent call last)",
      "File \u001b[0;32m~/Desktop/BotGetLike/src/getlike.py:297\u001b[0m, in \u001b[0;36mGetLike.execute_task\u001b[0;34m(self, task, vk)\u001b[0m\n\u001b[1;32m    296\u001b[0m \u001b[39mself\u001b[39m\u001b[39m.\u001b[39mswitch_to_vktab(parent_window)\n\u001b[0;32m--> 297\u001b[0m vk\u001b[39m.\u001b[39;49mexecute_task(task[\u001b[39m'\u001b[39;49m\u001b[39mtype\u001b[39;49m\u001b[39m'\u001b[39;49m])\n\u001b[1;32m    298\u001b[0m sleep(\u001b[39m2\u001b[39m)\n",
      "File \u001b[0;32m~/Desktop/BotGetLike/src/vk.py:235\u001b[0m, in \u001b[0;36mVk.execute_task\u001b[0;34m(self, type)\u001b[0m\n\u001b[1;32m    234\u001b[0m \u001b[39melif\u001b[39;00m \u001b[39mtype\u001b[39m \u001b[39m==\u001b[39m \u001b[39m'\u001b[39m\u001b[39mLiking photo\u001b[39m\u001b[39m'\u001b[39m:\n\u001b[0;32m--> 235\u001b[0m     \u001b[39mself\u001b[39;49m\u001b[39m.\u001b[39;49mlike_photo()\n\u001b[1;32m    236\u001b[0m \u001b[39melse\u001b[39;00m:\n",
      "File \u001b[0;32m~/Desktop/BotGetLike/src/vk.py:206\u001b[0m, in \u001b[0;36mVk.like_photo\u001b[0;34m(self)\u001b[0m\n\u001b[1;32m    205\u001b[0m \u001b[39mexcept\u001b[39;00m:\n\u001b[0;32m--> 206\u001b[0m     \u001b[39mraise\u001b[39;00m VkErrorDoingTask(\u001b[39m'\u001b[39m\u001b[39mError liking photo\u001b[39m\u001b[39m'\u001b[39m)\n",
      "\u001b[0;31mVkErrorDoingTask\u001b[0m: Error liking photo",
      "\nDuring handling of the above exception, another exception occurred:\n",
      "\u001b[0;31mVkErrorDoingTask\u001b[0m                          Traceback (most recent call last)",
      "Cell \u001b[0;32mIn [8], line 2\u001b[0m\n\u001b[1;32m      1\u001b[0m tasks\u001b[39m=\u001b[39m getlike\u001b[39m.\u001b[39mfound_tasks()\n\u001b[0;32m----> 2\u001b[0m getlike\u001b[39m.\u001b[39;49mexecute_task(tasks[\u001b[39m0\u001b[39;49m], vk)\n",
      "File \u001b[0;32m~/Desktop/BotGetLike/src/getlike.py:309\u001b[0m, in \u001b[0;36mGetLike.execute_task\u001b[0;34m(self, task, vk)\u001b[0m\n\u001b[1;32m    307\u001b[0m \u001b[39mexcept\u001b[39;00m VkErrorDoingTask:\n\u001b[1;32m    308\u001b[0m     \u001b[39mself\u001b[39m\u001b[39m.\u001b[39mswitch_to_getlike(parent_window)\n\u001b[0;32m--> 309\u001b[0m     \u001b[39mraise\u001b[39;00m VkErrorDoingTask\n\u001b[1;32m    310\u001b[0m \u001b[39mexcept\u001b[39;00m NoSuchWindowException:\n\u001b[1;32m    311\u001b[0m     \u001b[39mreturn\u001b[39;00m ResultTask(task[\u001b[39m'\u001b[39m\u001b[39mid\u001b[39m\u001b[39m'\u001b[39m], \u001b[39m'\u001b[39m\u001b[39mStopped\u001b[39m\u001b[39m'\u001b[39m, task[\u001b[39m'\u001b[39m\u001b[39mvalue\u001b[39m\u001b[39m'\u001b[39m], task[\u001b[39m'\u001b[39m\u001b[39mtype\u001b[39m\u001b[39m'\u001b[39m], \u001b[39mself\u001b[39m\u001b[39m.\u001b[39mcurrent_profile)\n",
      "\u001b[0;31mVkErrorDoingTask\u001b[0m: "
     ]
    }
   ],
   "source": [
    "tasks= getlike.found_tasks()\n",
    "getlike.execute_task(tasks[0], vk)"
   ]
  },
  {
   "cell_type": "code",
   "execution_count": null,
   "metadata": {},
   "outputs": [],
   "source": [
    "vk.like_post()"
   ]
  },
  {
   "cell_type": "code",
   "execution_count": null,
   "metadata": {},
   "outputs": [],
   "source": [
    "driver.switch_to.window(parent_window)"
   ]
  },
  {
   "cell_type": "code",
   "execution_count": null,
   "metadata": {},
   "outputs": [],
   "source": [
    "driver.current_url"
   ]
  },
  {
   "cell_type": "code",
   "execution_count": 9,
   "metadata": {},
   "outputs": [],
   "source": [
    "driver.switch_to.window(driver.window_handles[1])"
   ]
  }
 ],
 "metadata": {
  "kernelspec": {
   "display_name": "Python 3.10.6 64-bit",
   "language": "python",
   "name": "python3"
  },
  "language_info": {
   "codemirror_mode": {
    "name": "ipython",
    "version": 3
   },
   "file_extension": ".py",
   "mimetype": "text/x-python",
   "name": "python",
   "nbconvert_exporter": "python",
   "pygments_lexer": "ipython3",
   "version": "3.10.6"
  },
  "orig_nbformat": 4,
  "vscode": {
   "interpreter": {
    "hash": "916dbcbb3f70747c44a77c7bcd40155683ae19c65e1c03b4aa3499c5328201f1"
   }
  }
 },
 "nbformat": 4,
 "nbformat_minor": 2
}
