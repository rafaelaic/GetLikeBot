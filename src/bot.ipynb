{
 "cells": [
  {
   "cell_type": "markdown",
   "metadata": {},
   "source": [
    "Importações"
   ]
  },
  {
   "cell_type": "code",
   "execution_count": null,
   "metadata": {},
   "outputs": [],
   "source": [
    "import undetected_chromedriver as uc\n",
    "from selenium.webdriver.common.by import By\n",
    "from selenium.webdriver.common.keys import Keys\n",
    "from selenium.webdriver.support import expected_conditions as EC\n",
    "from selenium.webdriver.support.ui import WebDriverWait\n",
    "from easy_webdriver import *\n",
    "\n",
    "from vk import *\n",
    "from gen_log import GenLog\n",
    "from settings import Settings\n",
    "from tasks import ResultTask\n",
    "from get_like import GetLike"
   ]
  },
  {
   "cell_type": "markdown",
   "metadata": {},
   "source": [
    "Inicializa as configurações e o gerador de log"
   ]
  },
  {
   "cell_type": "code",
   "execution_count": null,
   "metadata": {},
   "outputs": [],
   "source": [
    "settings = Settings('../config/config.json')\n",
    "log = GenLog('../log/tasks.log', '../log/profiles.log')"
   ]
  },
  {
   "cell_type": "markdown",
   "metadata": {},
   "source": [
    "Inicialize o driver, getlike e vk"
   ]
  },
  {
   "cell_type": "code",
   "execution_count": null,
   "metadata": {},
   "outputs": [],
   "source": [
    "def inicia_chromedriver(headless = False, user_data_dir = None) -> uc.Chrome: \n",
    "    options = uc.ChromeOptions()\n",
    "    if headless: options.add_argument('--headless')\n",
    "    driver = uc.Chrome(user_data_dir=user_data_dir, options=options)\n",
    "    return driver\n",
    "    \n",
    "\n",
    "driver = inicia_chromedriver(user_data_dir='../profiles/blackzarthur/')\n",
    "getlike = GetLike(driver)\n",
    "parent_window = driver.current_window_handle\n",
    "\n",
    "#getlike.insert_cookies()\n",
    "\n",
    "vk = Vk(driver)\n",
    "\n",
    "#vk.credencial_login('blackzarthur@gmail.com', '#Money12')"
   ]
  },
  {
   "cell_type": "markdown",
   "metadata": {},
   "source": [
    "Estupra um perfil"
   ]
  },
  {
   "cell_type": "code",
   "execution_count": null,
   "metadata": {},
   "outputs": [],
   "source": [
    "def estupra_perfil(driver :uc.Chrome, getlike: GetLike, vk :Vk,  allowed_types :list, vk_account:dict, log :GenLog, parent_window):\n",
    "    '''Estupra um perfil, realizando todas as tarefas do mesmo. As tarefas não aceitas serão escondidas'''\n",
    "    \n",
    "    getlike.switch_profile(vk_account['link'])\n",
    "    \n",
    "    while(True):\n",
    "        tasks = getlike.found_tasks()\n",
    "        \n",
    "        if(len(tasks) == 0): break\n",
    "        \n",
    "        for task in tasks:\n",
    "            if(task['type'] in allowed_types):\n",
    "                result = getlike.execute_task(task, vk)\n",
    "                log.log_task(result)\n",
    "                \n",
    "            else:\n",
    "                result = getlike.hide_task(task)\n",
    "                log.log_task(result)\n",
    "\n",
    "            \n",
    "      \n",
    "\n",
    "estupra_perfil(driver, getlike, vk, settings.allowed_tasks, settings.vk_accounts[0], log ,parent_window)"
   ]
  },
  {
   "cell_type": "markdown",
   "metadata": {},
   "source": [
    "Gerenciar janelas"
   ]
  },
  {
   "cell_type": "code",
   "execution_count": null,
   "metadata": {},
   "outputs": [],
   "source": [
    "driver.switch_to.window(parent_window)"
   ]
  },
  {
   "cell_type": "code",
   "execution_count": null,
   "metadata": {},
   "outputs": [],
   "source": [
    "driver.current_url"
   ]
  },
  {
   "cell_type": "code",
   "execution_count": null,
   "metadata": {},
   "outputs": [],
   "source": [
    "driver.switch_to.window(driver.window_handles[1])"
   ]
  },
  {
   "cell_type": "markdown",
   "metadata": {},
   "source": [
    "Vk Testing\n",
    "\n",
    "\n",
    "\n"
   ]
  },
  {
   "cell_type": "code",
   "execution_count": 10,
   "metadata": {},
   "outputs": [],
   "source": [
    "'''FOLLOW USER'''\n",
    "\n",
    "#Click on follow\n",
    "follow_button = find_elements(driver, 'class', 'ProfileHeaderButton', 'visibility')[0]\n",
    "follow_button.click()\n"
   ]
  },
  {
   "cell_type": "code",
   "execution_count": 17,
   "metadata": {},
   "outputs": [],
   "source": [
    "find_elements(follow_button, 'class', 'vkuiButton__content vkuiSubhead vkuiSubhead--sizeY-compact vkuiSubhead--w-2', 'visibility')[0].get_attribute('vkuiButton__content vkuiSubhead vkuiSubhead--sizeY-compact vkuiSubhead--w-2')\n"
   ]
  },
  {
   "cell_type": "code",
   "execution_count": null,
   "metadata": {},
   "outputs": [],
   "source": [
    "driver.close()"
   ]
  }
 ],
 "metadata": {
  "kernelspec": {
   "display_name": "Python 3.10.6 64-bit",
   "language": "python",
   "name": "python3"
  },
  "language_info": {
   "codemirror_mode": {
    "name": "ipython",
    "version": 3
   },
   "file_extension": ".py",
   "mimetype": "text/x-python",
   "name": "python",
   "nbconvert_exporter": "python",
   "pygments_lexer": "ipython3",
   "version": "3.10.6"
  },
  "orig_nbformat": 4,
  "vscode": {
   "interpreter": {
    "hash": "31f2aee4e71d21fbe5cf8b01ff0e069b9275f58929596ceb00d14d90e3e16cd6"
   }
  }
 },
 "nbformat": 4,
 "nbformat_minor": 2
}
